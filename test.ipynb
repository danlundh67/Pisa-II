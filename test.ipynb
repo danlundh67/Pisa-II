{
 "cells": [
  {
   "cell_type": "code",
   "execution_count": 10,
   "metadata": {},
   "outputs": [
    {
     "name": "stdout",
     "output_type": "stream",
     "text": [
      "<class 'pandas.core.frame.DataFrame'>\n",
      "RangeIndex: 2087 entries, 0 to 2086\n",
      "Data columns (total 6 columns):\n",
      " #   Column     Non-Null Count  Dtype  \n",
      "---  ------     --------------  -----  \n",
      " 0   index      2087 non-null   int64  \n",
      " 1   LOCATION   2087 non-null   object \n",
      " 2   INDICATOR  2087 non-null   object \n",
      " 3   SUBJECT    2087 non-null   object \n",
      " 4   TIME       2087 non-null   int64  \n",
      " 5   Value      2087 non-null   float64\n",
      "dtypes: float64(1), int64(2), object(3)\n",
      "memory usage: 98.0+ KB\n"
     ]
    }
   ],
   "source": [
    "from pathlib import Path\n",
    "import pandas as pd\n",
    "\n",
    "DATA_PATH = Path(\"__file__\").parents[0] / \"data\"\n",
    "\n",
    "df=pd.read_csv(DATA_PATH / \"OECD PISA data.csv\")\n",
    "\n",
    "df.info()"
   ]
  },
  {
   "cell_type": "code",
   "execution_count": 16,
   "metadata": {},
   "outputs": [
    {
     "data": {
      "text/plain": [
       "np.int64(2087)"
      ]
     },
     "execution_count": 16,
     "metadata": {},
     "output_type": "execute_result"
    }
   ],
   "source": [
    "# number of countries\n",
    "number=len(df['LOCATION'].unique())\n",
    "\n",
    "# number of rows \n",
    "rows=df['LOCATION'].count()\n",
    "\n",
    "\n"
   ]
  },
  {
   "cell_type": "code",
   "execution_count": 21,
   "metadata": {},
   "outputs": [
    {
     "data": {
      "text/plain": [
       "array(['BOY', 'GIRL', 'TOT'], dtype=object)"
      ]
     },
     "execution_count": 21,
     "metadata": {},
     "output_type": "execute_result"
    }
   ],
   "source": [
    "number=len(df['LOCATION'].unique())\n",
    "#df['LOCATION'].unique\n",
    "df['SUBJECT'].unique()"
   ]
  },
  {
   "cell_type": "code",
   "execution_count": 22,
   "metadata": {},
   "outputs": [
    {
     "data": {
      "text/html": [
       "<div>\n",
       "<style scoped>\n",
       "    .dataframe tbody tr th:only-of-type {\n",
       "        vertical-align: middle;\n",
       "    }\n",
       "\n",
       "    .dataframe tbody tr th {\n",
       "        vertical-align: top;\n",
       "    }\n",
       "\n",
       "    .dataframe thead th {\n",
       "        text-align: right;\n",
       "    }\n",
       "</style>\n",
       "<table border=\"1\" class=\"dataframe\">\n",
       "  <thead>\n",
       "    <tr style=\"text-align: right;\">\n",
       "      <th></th>\n",
       "      <th>index</th>\n",
       "      <th>LOCATION</th>\n",
       "      <th>INDICATOR</th>\n",
       "      <th>SUBJECT</th>\n",
       "      <th>TIME</th>\n",
       "      <th>Value</th>\n",
       "    </tr>\n",
       "  </thead>\n",
       "  <tbody>\n",
       "    <tr>\n",
       "      <th>446</th>\n",
       "      <td>446</td>\n",
       "      <td>AUS</td>\n",
       "      <td>PISAMATH</td>\n",
       "      <td>TOT</td>\n",
       "      <td>2003</td>\n",
       "      <td>524.0</td>\n",
       "    </tr>\n",
       "    <tr>\n",
       "      <th>447</th>\n",
       "      <td>447</td>\n",
       "      <td>AUS</td>\n",
       "      <td>PISAMATH</td>\n",
       "      <td>TOT</td>\n",
       "      <td>2006</td>\n",
       "      <td>520.0</td>\n",
       "    </tr>\n",
       "    <tr>\n",
       "      <th>448</th>\n",
       "      <td>448</td>\n",
       "      <td>AUS</td>\n",
       "      <td>PISAMATH</td>\n",
       "      <td>TOT</td>\n",
       "      <td>2009</td>\n",
       "      <td>514.0</td>\n",
       "    </tr>\n",
       "    <tr>\n",
       "      <th>449</th>\n",
       "      <td>449</td>\n",
       "      <td>AUS</td>\n",
       "      <td>PISAMATH</td>\n",
       "      <td>TOT</td>\n",
       "      <td>2012</td>\n",
       "      <td>504.0</td>\n",
       "    </tr>\n",
       "    <tr>\n",
       "      <th>450</th>\n",
       "      <td>450</td>\n",
       "      <td>AUS</td>\n",
       "      <td>PISAMATH</td>\n",
       "      <td>TOT</td>\n",
       "      <td>2015</td>\n",
       "      <td>494.0</td>\n",
       "    </tr>\n",
       "    <tr>\n",
       "      <th>...</th>\n",
       "      <td>...</td>\n",
       "      <td>...</td>\n",
       "      <td>...</td>\n",
       "      <td>...</td>\n",
       "      <td>...</td>\n",
       "      <td>...</td>\n",
       "    </tr>\n",
       "    <tr>\n",
       "      <th>2074</th>\n",
       "      <td>2074</td>\n",
       "      <td>SGP</td>\n",
       "      <td>PISASCIENCE</td>\n",
       "      <td>TOT</td>\n",
       "      <td>2015</td>\n",
       "      <td>556.0</td>\n",
       "    </tr>\n",
       "    <tr>\n",
       "      <th>2075</th>\n",
       "      <td>2075</td>\n",
       "      <td>TWN</td>\n",
       "      <td>PISASCIENCE</td>\n",
       "      <td>TOT</td>\n",
       "      <td>2015</td>\n",
       "      <td>532.0</td>\n",
       "    </tr>\n",
       "    <tr>\n",
       "      <th>2078</th>\n",
       "      <td>2078</td>\n",
       "      <td>MAC</td>\n",
       "      <td>PISASCIENCE</td>\n",
       "      <td>TOT</td>\n",
       "      <td>2015</td>\n",
       "      <td>529.0</td>\n",
       "    </tr>\n",
       "    <tr>\n",
       "      <th>2081</th>\n",
       "      <td>2081</td>\n",
       "      <td>CRI</td>\n",
       "      <td>PISASCIENCE</td>\n",
       "      <td>TOT</td>\n",
       "      <td>2018</td>\n",
       "      <td>416.0</td>\n",
       "    </tr>\n",
       "    <tr>\n",
       "      <th>2084</th>\n",
       "      <td>2084</td>\n",
       "      <td>LTU</td>\n",
       "      <td>PISASCIENCE</td>\n",
       "      <td>TOT</td>\n",
       "      <td>2018</td>\n",
       "      <td>482.0</td>\n",
       "    </tr>\n",
       "  </tbody>\n",
       "</table>\n",
       "<p>701 rows × 6 columns</p>\n",
       "</div>"
      ],
      "text/plain": [
       "      index LOCATION    INDICATOR SUBJECT  TIME  Value\n",
       "446     446      AUS     PISAMATH     TOT  2003  524.0\n",
       "447     447      AUS     PISAMATH     TOT  2006  520.0\n",
       "448     448      AUS     PISAMATH     TOT  2009  514.0\n",
       "449     449      AUS     PISAMATH     TOT  2012  504.0\n",
       "450     450      AUS     PISAMATH     TOT  2015  494.0\n",
       "...     ...      ...          ...     ...   ...    ...\n",
       "2074   2074      SGP  PISASCIENCE     TOT  2015  556.0\n",
       "2075   2075      TWN  PISASCIENCE     TOT  2015  532.0\n",
       "2078   2078      MAC  PISASCIENCE     TOT  2015  529.0\n",
       "2081   2081      CRI  PISASCIENCE     TOT  2018  416.0\n",
       "2084   2084      LTU  PISASCIENCE     TOT  2018  482.0\n",
       "\n",
       "[701 rows x 6 columns]"
      ]
     },
     "execution_count": 22,
     "metadata": {},
     "output_type": "execute_result"
    }
   ],
   "source": [
    "df[df['SUBJECT']=='TOT']"
   ]
  },
  {
   "cell_type": "code",
   "execution_count": null,
   "metadata": {},
   "outputs": [],
   "source": []
  }
 ],
 "metadata": {
  "kernelspec": {
   "display_name": "venv",
   "language": "python",
   "name": "python3"
  },
  "language_info": {
   "codemirror_mode": {
    "name": "ipython",
    "version": 3
   },
   "file_extension": ".py",
   "mimetype": "text/x-python",
   "name": "python",
   "nbconvert_exporter": "python",
   "pygments_lexer": "ipython3",
   "version": "3.11.7"
  }
 },
 "nbformat": 4,
 "nbformat_minor": 2
}
